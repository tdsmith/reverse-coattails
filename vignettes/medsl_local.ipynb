{
 "cells": [
  {
   "cell_type": "code",
   "execution_count": 1,
   "id": "cd2f46d4-e42f-4421-bec4-7d5baa11e8eb",
   "metadata": {},
   "outputs": [],
   "source": [
    "import sys\n",
    "sys.path.append(\"..\")\n",
    "import extract"
   ]
  },
  {
   "cell_type": "code",
   "execution_count": 2,
   "id": "52f74940-060d-454c-bbd5-2b85a9974b81",
   "metadata": {},
   "outputs": [],
   "source": [
    "local = extract.medsl_local()"
   ]
  },
  {
   "cell_type": "code",
   "execution_count": 3,
   "id": "033041bf-2e61-4477-a0be-3605c20e61fb",
   "metadata": {},
   "outputs": [
    {
     "data": {
      "text/plain": [
       "(484350, 25)"
      ]
     },
     "execution_count": 3,
     "metadata": {},
     "output_type": "execute_result"
    }
   ],
   "source": [
    "local.shape"
   ]
  },
  {
   "cell_type": "code",
   "execution_count": 4,
   "id": "247ca6dd-a9a7-4550-b885-40d4a6941052",
   "metadata": {},
   "outputs": [
    {
     "data": {
      "text/html": [
       "<div>\n",
       "<style scoped>\n",
       "    .dataframe tbody tr th:only-of-type {\n",
       "        vertical-align: middle;\n",
       "    }\n",
       "\n",
       "    .dataframe tbody tr th {\n",
       "        vertical-align: top;\n",
       "    }\n",
       "\n",
       "    .dataframe thead th {\n",
       "        text-align: right;\n",
       "    }\n",
       "</style>\n",
       "<table border=\"1\" class=\"dataframe\">\n",
       "  <thead>\n",
       "    <tr style=\"text-align: right;\">\n",
       "      <th></th>\n",
       "      <th>precinct</th>\n",
       "      <th>office</th>\n",
       "      <th>party_detailed</th>\n",
       "      <th>party_simplified</th>\n",
       "      <th>mode</th>\n",
       "      <th>votes</th>\n",
       "      <th>county_name</th>\n",
       "      <th>county_fips</th>\n",
       "      <th>jurisdiction_name</th>\n",
       "      <th>jurisdiction_fips</th>\n",
       "      <th>...</th>\n",
       "      <th>stage</th>\n",
       "      <th>state</th>\n",
       "      <th>special</th>\n",
       "      <th>writein</th>\n",
       "      <th>state_po</th>\n",
       "      <th>state_fips</th>\n",
       "      <th>state_cen</th>\n",
       "      <th>state_ic</th>\n",
       "      <th>date</th>\n",
       "      <th>readme_check</th>\n",
       "    </tr>\n",
       "  </thead>\n",
       "  <tbody>\n",
       "    <tr>\n",
       "      <th>0</th>\n",
       "      <td>06-020 CHISTOCHINA</td>\n",
       "      <td>DISTRICT COURT</td>\n",
       "      <td>NaN</td>\n",
       "      <td>NaN</td>\n",
       "      <td>ELECTION DAY</td>\n",
       "      <td>33</td>\n",
       "      <td>NaN</td>\n",
       "      <td>NaN</td>\n",
       "      <td>DISTRICT 6</td>\n",
       "      <td>02006</td>\n",
       "      <td>...</td>\n",
       "      <td>GEN</td>\n",
       "      <td>ALASKA</td>\n",
       "      <td>False</td>\n",
       "      <td>False</td>\n",
       "      <td>AK</td>\n",
       "      <td>02</td>\n",
       "      <td>94</td>\n",
       "      <td>81</td>\n",
       "      <td>2020-11-03</td>\n",
       "      <td>False</td>\n",
       "    </tr>\n",
       "    <tr>\n",
       "      <th>1</th>\n",
       "      <td>06-020 CHISTOCHINA</td>\n",
       "      <td>DISTRICT COURT</td>\n",
       "      <td>NaN</td>\n",
       "      <td>NaN</td>\n",
       "      <td>ELECTION DAY</td>\n",
       "      <td>24</td>\n",
       "      <td>NaN</td>\n",
       "      <td>NaN</td>\n",
       "      <td>DISTRICT 6</td>\n",
       "      <td>02006</td>\n",
       "      <td>...</td>\n",
       "      <td>GEN</td>\n",
       "      <td>ALASKA</td>\n",
       "      <td>False</td>\n",
       "      <td>False</td>\n",
       "      <td>AK</td>\n",
       "      <td>02</td>\n",
       "      <td>94</td>\n",
       "      <td>81</td>\n",
       "      <td>2020-11-03</td>\n",
       "      <td>False</td>\n",
       "    </tr>\n",
       "    <tr>\n",
       "      <th>2</th>\n",
       "      <td>06-020 CHISTOCHINA</td>\n",
       "      <td>DISTRICT COURT</td>\n",
       "      <td>NaN</td>\n",
       "      <td>NaN</td>\n",
       "      <td>ELECTION DAY</td>\n",
       "      <td>33</td>\n",
       "      <td>NaN</td>\n",
       "      <td>NaN</td>\n",
       "      <td>DISTRICT 6</td>\n",
       "      <td>02006</td>\n",
       "      <td>...</td>\n",
       "      <td>GEN</td>\n",
       "      <td>ALASKA</td>\n",
       "      <td>False</td>\n",
       "      <td>False</td>\n",
       "      <td>AK</td>\n",
       "      <td>02</td>\n",
       "      <td>94</td>\n",
       "      <td>81</td>\n",
       "      <td>2020-11-03</td>\n",
       "      <td>False</td>\n",
       "    </tr>\n",
       "    <tr>\n",
       "      <th>3</th>\n",
       "      <td>06-020 CHISTOCHINA</td>\n",
       "      <td>DISTRICT COURT</td>\n",
       "      <td>NaN</td>\n",
       "      <td>NaN</td>\n",
       "      <td>ELECTION DAY</td>\n",
       "      <td>24</td>\n",
       "      <td>NaN</td>\n",
       "      <td>NaN</td>\n",
       "      <td>DISTRICT 6</td>\n",
       "      <td>02006</td>\n",
       "      <td>...</td>\n",
       "      <td>GEN</td>\n",
       "      <td>ALASKA</td>\n",
       "      <td>False</td>\n",
       "      <td>False</td>\n",
       "      <td>AK</td>\n",
       "      <td>02</td>\n",
       "      <td>94</td>\n",
       "      <td>81</td>\n",
       "      <td>2020-11-03</td>\n",
       "      <td>False</td>\n",
       "    </tr>\n",
       "    <tr>\n",
       "      <th>4</th>\n",
       "      <td>06-020 CHISTOCHINA</td>\n",
       "      <td>DISTRICT COURT</td>\n",
       "      <td>NaN</td>\n",
       "      <td>NaN</td>\n",
       "      <td>ELECTION DAY</td>\n",
       "      <td>32</td>\n",
       "      <td>NaN</td>\n",
       "      <td>NaN</td>\n",
       "      <td>DISTRICT 6</td>\n",
       "      <td>02006</td>\n",
       "      <td>...</td>\n",
       "      <td>GEN</td>\n",
       "      <td>ALASKA</td>\n",
       "      <td>False</td>\n",
       "      <td>False</td>\n",
       "      <td>AK</td>\n",
       "      <td>02</td>\n",
       "      <td>94</td>\n",
       "      <td>81</td>\n",
       "      <td>2020-11-03</td>\n",
       "      <td>False</td>\n",
       "    </tr>\n",
       "  </tbody>\n",
       "</table>\n",
       "<p>5 rows × 25 columns</p>\n",
       "</div>"
      ],
      "text/plain": [
       "             precinct          office party_detailed party_simplified  \\\n",
       "0  06-020 CHISTOCHINA  DISTRICT COURT            NaN              NaN   \n",
       "1  06-020 CHISTOCHINA  DISTRICT COURT            NaN              NaN   \n",
       "2  06-020 CHISTOCHINA  DISTRICT COURT            NaN              NaN   \n",
       "3  06-020 CHISTOCHINA  DISTRICT COURT            NaN              NaN   \n",
       "4  06-020 CHISTOCHINA  DISTRICT COURT            NaN              NaN   \n",
       "\n",
       "           mode  votes county_name county_fips jurisdiction_name  \\\n",
       "0  ELECTION DAY     33         NaN         NaN        DISTRICT 6   \n",
       "1  ELECTION DAY     24         NaN         NaN        DISTRICT 6   \n",
       "2  ELECTION DAY     33         NaN         NaN        DISTRICT 6   \n",
       "3  ELECTION DAY     24         NaN         NaN        DISTRICT 6   \n",
       "4  ELECTION DAY     32         NaN         NaN        DISTRICT 6   \n",
       "\n",
       "  jurisdiction_fips  ... stage   state  special writein  state_po state_fips  \\\n",
       "0             02006  ...   GEN  ALASKA    False   False        AK         02   \n",
       "1             02006  ...   GEN  ALASKA    False   False        AK         02   \n",
       "2             02006  ...   GEN  ALASKA    False   False        AK         02   \n",
       "3             02006  ...   GEN  ALASKA    False   False        AK         02   \n",
       "4             02006  ...   GEN  ALASKA    False   False        AK         02   \n",
       "\n",
       "  state_cen  state_ic        date readme_check  \n",
       "0        94        81  2020-11-03        False  \n",
       "1        94        81  2020-11-03        False  \n",
       "2        94        81  2020-11-03        False  \n",
       "3        94        81  2020-11-03        False  \n",
       "4        94        81  2020-11-03        False  \n",
       "\n",
       "[5 rows x 25 columns]"
      ]
     },
     "execution_count": 4,
     "metadata": {},
     "output_type": "execute_result"
    }
   ],
   "source": [
    "local.head()"
   ]
  },
  {
   "cell_type": "code",
   "execution_count": 5,
   "id": "e4d8c6ac-a945-45ef-9fe0-6146c44bd812",
   "metadata": {},
   "outputs": [
    {
     "data": {
      "text/plain": [
       "Index(['precinct', 'office', 'party_detailed', 'party_simplified', 'mode',\n",
       "       'votes', 'county_name', 'county_fips', 'jurisdiction_name',\n",
       "       'jurisdiction_fips', 'candidate', 'district', 'magnitude', 'dataverse',\n",
       "       'year', 'stage', 'state', 'special', 'writein', 'state_po',\n",
       "       'state_fips', 'state_cen', 'state_ic', 'date', 'readme_check'],\n",
       "      dtype='object')"
      ]
     },
     "execution_count": 5,
     "metadata": {},
     "output_type": "execute_result"
    }
   ],
   "source": [
    "local.columns"
   ]
  },
  {
   "cell_type": "code",
   "execution_count": 6,
   "id": "2cecd35b-fd05-4fde-9799-40dc94bfb134",
   "metadata": {},
   "outputs": [
    {
     "data": {
      "text/plain": [
       "COUNTY BOARD OF EDUCATION                                                                                63774\n",
       "DISTRICT COURT JUDGE                                                                                     62460\n",
       "COUNTY BOARD OF COMMISSIONERS                                                                            58020\n",
       "SOIL AND WATER CONSERVATION DISTRICT SUPERVISOR - WAKE                                                   41720\n",
       "RETENTION COUNTY COURT                                                                                   20464\n",
       "                                                                                                         ...  \n",
       "QUESTION TO IMPOSE AN ADDITIONAL ONE PERCENT (1%) RESORT TAX TO BE COLLECTED FOR SEWER INFRASTRUCTURE        2\n",
       "COUNTY CLERK AND RECORDER/CLERK OF DISTRICT COURT                                                            1\n",
       "PRECINCT 10: FOR COUNCIL WARD 3                                                                              1\n",
       "PRECINCT 8: FOR COUNCIL WARD 1                                                                               1\n",
       "PRECINCT 9: FOR COUNCIL WARD 2                                                                               1\n",
       "Name: office, Length: 778, dtype: int64"
      ]
     },
     "execution_count": 6,
     "metadata": {},
     "output_type": "execute_result"
    }
   ],
   "source": [
    "# string - The field which contains the name of the elected position for the race.\n",
    "local.office.value_counts()"
   ]
  },
  {
   "cell_type": "code",
   "execution_count": 7,
   "id": "3a4a7ffc-c1b0-4db0-aca6-704db122a246",
   "metadata": {},
   "outputs": [
    {
     "data": {
      "text/plain": [
       "NONPARTISAN                217686\n",
       "DEMOCRAT                    97713\n",
       "REPUBLICAN                  75413\n",
       "NaN                         73886\n",
       "INDEPENDENT                 16261\n",
       "LIBERTARIAN                  1702\n",
       "UNITY OF COLORADO             473\n",
       "DEMOCRAT-REPUBLICAN           463\n",
       "REPUBLICAN-DEMOCRAT           252\n",
       "GREEN                         220\n",
       "CONSTITUTION                  174\n",
       "UNENROLLED                     38\n",
       "DEMOCRAT-PROGRESSIVE           23\n",
       "PISCATAQUIS INDEPENDENT        21\n",
       "PROGRESSIVE                    16\n",
       "GG                              9\n",
       "Name: party_detailed, dtype: int64"
      ]
     },
     "execution_count": 7,
     "metadata": {},
     "output_type": "execute_result"
    }
   ],
   "source": [
    "# string - The party name for the given entry. Propositions, amendments, and other referenda are left as blank \"\".\n",
    "local.party_detailed.value_counts(dropna=False)"
   ]
  },
  {
   "cell_type": "code",
   "execution_count": 8,
   "id": "5067c0ba-71f3-4375-b995-1ae9d4295053",
   "metadata": {},
   "outputs": [
    {
     "data": {
      "text/plain": [
       "NONPARTISAN    217686\n",
       "DEMOCRAT        97713\n",
       "REPUBLICAN      75413\n",
       "NaN             73886\n",
       "OTHER           17950\n",
       "LIBERTARIAN      1702\n",
       "Name: party_simplified, dtype: int64"
      ]
     },
     "execution_count": 8,
     "metadata": {},
     "output_type": "execute_result"
    }
   ],
   "source": [
    "# string - The party name for the given entry simplified to one of the following: DEMOCRAT, REPUBLICAN, LIBERTARIAN, OTHER, and NONPARTISAN. Propositions, amendments, and other referenda are left as blank \"\".\n",
    "local.party_simplified.value_counts(dropna=False)"
   ]
  },
  {
   "cell_type": "code",
   "execution_count": 9,
   "id": "0e730b0b-cadd-4249-9c33-ab80e216010f",
   "metadata": {},
   "outputs": [
    {
     "data": {
      "text/plain": [
       "ELECTION DAY        112110\n",
       "TOTAL                94473\n",
       "PROVISIONAL          83653\n",
       "ONE STOP             83035\n",
       "ABSENTEE BY MAIL     82976\n",
       "ABSENTEE              8713\n",
       "EARLY VOTING          7462\n",
       "MAIL BALLOTS          7026\n",
       "EARLY                 4902\n",
       "Name: mode, dtype: int64"
      ]
     },
     "execution_count": 9,
     "metadata": {},
     "output_type": "execute_result"
    }
   ],
   "source": [
    "# string - The voting mode for how the election results are reported. For results that do not offer disaggregation by mode, it will be \"TOTAL\". For other states that do offer the distinction, then some common entries might include: ABSENTEE, ELECTRONIC, ELECTION DAY, PROVISIONAL, ONE-STOP, etc.\n",
    "local[\"mode\"].value_counts(dropna=False)"
   ]
  },
  {
   "cell_type": "code",
   "execution_count": 10,
   "id": "a4a56e5c-129c-493e-8eb2-59c950b03173",
   "metadata": {},
   "outputs": [
    {
     "data": {
      "text/plain": [
       "<AxesSubplot:ylabel='Frequency'>"
      ]
     },
     "execution_count": 10,
     "metadata": {},
     "output_type": "execute_result"
    },
    {
     "data": {
      "image/png": "[encoded data removed]",
      "text/plain": [
       "<Figure size 432x288 with 1 Axes>"
      ]
     },
     "metadata": {
      "needs_background": "light"
     },
     "output_type": "display_data"
    }
   ],
   "source": [
    "# int - The numeric value of votes for a given entry.\n",
    "# Almost half of these values are zeros, which is higher than I'd expect\n",
    "local.votes.plot(kind=\"hist\", logx=True, bins=[0,1,3,10,30,100,300,1e3,3e3,1e4,3e4,1e5,3e5,1e6])"
   ]
  },
  {
   "cell_type": "code",
   "execution_count": 11,
   "id": "131dbd06-702a-45e4-9a54-8e5debe29a83",
   "metadata": {},
   "outputs": [
    {
     "data": {
      "text/html": [
       "<div>\n",
       "<style scoped>\n",
       "    .dataframe tbody tr th:only-of-type {\n",
       "        vertical-align: middle;\n",
       "    }\n",
       "\n",
       "    .dataframe tbody tr th {\n",
       "        vertical-align: top;\n",
       "    }\n",
       "\n",
       "    .dataframe thead th {\n",
       "        text-align: right;\n",
       "    }\n",
       "</style>\n",
       "<table border=\"1\" class=\"dataframe\">\n",
       "  <thead>\n",
       "    <tr style=\"text-align: right;\">\n",
       "      <th></th>\n",
       "      <th>precinct</th>\n",
       "      <th>office</th>\n",
       "      <th>party_detailed</th>\n",
       "      <th>party_simplified</th>\n",
       "      <th>mode</th>\n",
       "      <th>votes</th>\n",
       "      <th>county_name</th>\n",
       "      <th>county_fips</th>\n",
       "      <th>jurisdiction_name</th>\n",
       "      <th>jurisdiction_fips</th>\n",
       "      <th>...</th>\n",
       "      <th>stage</th>\n",
       "      <th>state</th>\n",
       "      <th>special</th>\n",
       "      <th>writein</th>\n",
       "      <th>state_po</th>\n",
       "      <th>state_fips</th>\n",
       "      <th>state_cen</th>\n",
       "      <th>state_ic</th>\n",
       "      <th>date</th>\n",
       "      <th>readme_check</th>\n",
       "    </tr>\n",
       "  </thead>\n",
       "  <tbody>\n",
       "    <tr>\n",
       "      <th>3038</th>\n",
       "      <td>37-710 CLARK'S POINT</td>\n",
       "      <td>DISTRICT COURT</td>\n",
       "      <td>NaN</td>\n",
       "      <td>NaN</td>\n",
       "      <td>ELECTION DAY</td>\n",
       "      <td>0</td>\n",
       "      <td>NaN</td>\n",
       "      <td>NaN</td>\n",
       "      <td>DISTRICT 37</td>\n",
       "      <td>02037</td>\n",
       "      <td>...</td>\n",
       "      <td>GEN</td>\n",
       "      <td>ALASKA</td>\n",
       "      <td>False</td>\n",
       "      <td>False</td>\n",
       "      <td>AK</td>\n",
       "      <td>02</td>\n",
       "      <td>94</td>\n",
       "      <td>81</td>\n",
       "      <td>2020-11-03</td>\n",
       "      <td>False</td>\n",
       "    </tr>\n",
       "    <tr>\n",
       "      <th>3039</th>\n",
       "      <td>37-710 CLARK'S POINT</td>\n",
       "      <td>DISTRICT COURT</td>\n",
       "      <td>NaN</td>\n",
       "      <td>NaN</td>\n",
       "      <td>ELECTION DAY</td>\n",
       "      <td>0</td>\n",
       "      <td>NaN</td>\n",
       "      <td>NaN</td>\n",
       "      <td>DISTRICT 37</td>\n",
       "      <td>02037</td>\n",
       "      <td>...</td>\n",
       "      <td>GEN</td>\n",
       "      <td>ALASKA</td>\n",
       "      <td>False</td>\n",
       "      <td>False</td>\n",
       "      <td>AK</td>\n",
       "      <td>02</td>\n",
       "      <td>94</td>\n",
       "      <td>81</td>\n",
       "      <td>2020-11-03</td>\n",
       "      <td>False</td>\n",
       "    </tr>\n",
       "    <tr>\n",
       "      <th>3040</th>\n",
       "      <td>37-710 CLARK'S POINT</td>\n",
       "      <td>DISTRICT COURT</td>\n",
       "      <td>NaN</td>\n",
       "      <td>NaN</td>\n",
       "      <td>ELECTION DAY</td>\n",
       "      <td>0</td>\n",
       "      <td>NaN</td>\n",
       "      <td>NaN</td>\n",
       "      <td>DISTRICT 37</td>\n",
       "      <td>02037</td>\n",
       "      <td>...</td>\n",
       "      <td>GEN</td>\n",
       "      <td>ALASKA</td>\n",
       "      <td>False</td>\n",
       "      <td>False</td>\n",
       "      <td>AK</td>\n",
       "      <td>02</td>\n",
       "      <td>94</td>\n",
       "      <td>81</td>\n",
       "      <td>2020-11-03</td>\n",
       "      <td>False</td>\n",
       "    </tr>\n",
       "    <tr>\n",
       "      <th>3041</th>\n",
       "      <td>37-710 CLARK'S POINT</td>\n",
       "      <td>DISTRICT COURT</td>\n",
       "      <td>NaN</td>\n",
       "      <td>NaN</td>\n",
       "      <td>ELECTION DAY</td>\n",
       "      <td>0</td>\n",
       "      <td>NaN</td>\n",
       "      <td>NaN</td>\n",
       "      <td>DISTRICT 37</td>\n",
       "      <td>02037</td>\n",
       "      <td>...</td>\n",
       "      <td>GEN</td>\n",
       "      <td>ALASKA</td>\n",
       "      <td>False</td>\n",
       "      <td>False</td>\n",
       "      <td>AK</td>\n",
       "      <td>02</td>\n",
       "      <td>94</td>\n",
       "      <td>81</td>\n",
       "      <td>2020-11-03</td>\n",
       "      <td>False</td>\n",
       "    </tr>\n",
       "    <tr>\n",
       "      <th>3042</th>\n",
       "      <td>37-710 CLARK'S POINT</td>\n",
       "      <td>DISTRICT COURT</td>\n",
       "      <td>NaN</td>\n",
       "      <td>NaN</td>\n",
       "      <td>ELECTION DAY</td>\n",
       "      <td>0</td>\n",
       "      <td>NaN</td>\n",
       "      <td>NaN</td>\n",
       "      <td>DISTRICT 37</td>\n",
       "      <td>02037</td>\n",
       "      <td>...</td>\n",
       "      <td>GEN</td>\n",
       "      <td>ALASKA</td>\n",
       "      <td>False</td>\n",
       "      <td>False</td>\n",
       "      <td>AK</td>\n",
       "      <td>02</td>\n",
       "      <td>94</td>\n",
       "      <td>81</td>\n",
       "      <td>2020-11-03</td>\n",
       "      <td>False</td>\n",
       "    </tr>\n",
       "  </tbody>\n",
       "</table>\n",
       "<p>5 rows × 25 columns</p>\n",
       "</div>"
      ],
      "text/plain": [
       "                  precinct          office party_detailed party_simplified  \\\n",
       "3038  37-710 CLARK'S POINT  DISTRICT COURT            NaN              NaN   \n",
       "3039  37-710 CLARK'S POINT  DISTRICT COURT            NaN              NaN   \n",
       "3040  37-710 CLARK'S POINT  DISTRICT COURT            NaN              NaN   \n",
       "3041  37-710 CLARK'S POINT  DISTRICT COURT            NaN              NaN   \n",
       "3042  37-710 CLARK'S POINT  DISTRICT COURT            NaN              NaN   \n",
       "\n",
       "              mode  votes county_name county_fips jurisdiction_name  \\\n",
       "3038  ELECTION DAY      0         NaN         NaN       DISTRICT 37   \n",
       "3039  ELECTION DAY      0         NaN         NaN       DISTRICT 37   \n",
       "3040  ELECTION DAY      0         NaN         NaN       DISTRICT 37   \n",
       "3041  ELECTION DAY      0         NaN         NaN       DISTRICT 37   \n",
       "3042  ELECTION DAY      0         NaN         NaN       DISTRICT 37   \n",
       "\n",
       "     jurisdiction_fips  ... stage   state  special writein  state_po  \\\n",
       "3038             02037  ...   GEN  ALASKA    False   False        AK   \n",
       "3039             02037  ...   GEN  ALASKA    False   False        AK   \n",
       "3040             02037  ...   GEN  ALASKA    False   False        AK   \n",
       "3041             02037  ...   GEN  ALASKA    False   False        AK   \n",
       "3042             02037  ...   GEN  ALASKA    False   False        AK   \n",
       "\n",
       "     state_fips state_cen  state_ic        date readme_check  \n",
       "3038         02        94        81  2020-11-03        False  \n",
       "3039         02        94        81  2020-11-03        False  \n",
       "3040         02        94        81  2020-11-03        False  \n",
       "3041         02        94        81  2020-11-03        False  \n",
       "3042         02        94        81  2020-11-03        False  \n",
       "\n",
       "[5 rows x 25 columns]"
      ]
     },
     "execution_count": 11,
     "metadata": {},
     "output_type": "execute_result"
    }
   ],
   "source": [
    "local[local.votes == 0].head()"
   ]
  },
  {
   "cell_type": "code",
   "execution_count": 12,
   "id": "fb68e138-f1cb-48e3-831b-e0d5ff9c1075",
   "metadata": {},
   "outputs": [
    {
     "data": {
      "text/plain": [
       "WRITEIN            37965\n",
       "NO                 14499\n",
       "YES                14498\n",
       "CHARLES GILLIAM     2384\n",
       "MARY BETH MOORE     1632\n",
       "                   ...  \n",
       "SHARON LEARY           1\n",
       "WILLIAM BEZIO          1\n",
       "YEEZY                  1\n",
       "ALEX MORGAN            1\n",
       "TOM CROWE              1\n",
       "Name: candidate, Length: 6382, dtype: int64"
      ]
     },
     "execution_count": 12,
     "metadata": {},
     "output_type": "execute_result"
    }
   ],
   "source": [
    "# string - The candidate name.\n",
    "# NOTE: Retention elections include the name of the candidate and the yes/no option\n",
    "local.candidate.value_counts(dropna=False)"
   ]
  },
  {
   "cell_type": "code",
   "execution_count": 13,
   "id": "836476b5-238d-4b87-9a5e-cc03008f9bab",
   "metadata": {},
   "outputs": [
    {
     "data": {
      "text/plain": [
       "NaN             280494\n",
       "002              17421\n",
       "001              17225\n",
       "003              16161\n",
       "004              14545\n",
       "                 ...  \n",
       "ROUND HILL           6\n",
       "001, AREA 2          5\n",
       "UNIT 17, 004         3\n",
       "I                    3\n",
       "UNIT 17, 002         1\n",
       "Name: district, Length: 555, dtype: int64"
      ]
     },
     "execution_count": 13,
     "metadata": {},
     "output_type": "execute_result"
    }
   ],
   "source": [
    "# string - The district identifier for the race, given that it is substate. If the district is a state legislative or U.S. House race, then the district is string padded to be 3 digits long and with zeroes, i.e. State Senate district 3 would be equal to \"003\". Other substate units (wards, seats, etc) with multiple level are included if given, i.e. State District Court of the Sixth district and seat C, would be \"006, seat C\". For candidates with state wide jurisdictions, district is \"STATEWIDE\". For races without district info, the field is left blank \"\".\n",
    "local.district.value_counts(dropna=False)"
   ]
  },
  {
   "cell_type": "code",
   "execution_count": 14,
   "id": "aa64c8ca-40de-4610-93be-268cdf0615e5",
   "metadata": {},
   "outputs": [
    {
     "data": {
      "text/plain": [
       "1    416190\n",
       "3     29427\n",
       "2     15188\n",
       "4     14429\n",
       "5      6515\n",
       "7      2574\n",
       "9        27\n",
       "Name: magnitude, dtype: int64"
      ]
     },
     "execution_count": 14,
     "metadata": {},
     "output_type": "execute_result"
    }
   ],
   "source": [
    "# int - The number of candidates voted for in a given office-district race. The default is 1 (i.e. a single member winner take all district), with multimember districts having a magnitude matching the number of candidates who can win a race. This will be more common in local races and a select few states for their state house (i.e. NH).\n",
    "local.magnitude.value_counts(dropna=False)"
   ]
  },
  {
   "cell_type": "code",
   "execution_count": 15,
   "id": "e65280e6-8ae8-4429-9449-3160dc3122f3",
   "metadata": {},
   "outputs": [
    {
     "data": {
      "text/plain": [
       "LOCAL    484350\n",
       "Name: dataverse, dtype: int64"
      ]
     },
     "execution_count": 15,
     "metadata": {},
     "output_type": "execute_result"
    }
   ],
   "source": [
    "local.dataverse.value_counts()"
   ]
  },
  {
   "cell_type": "code",
   "execution_count": 16,
   "id": "46993fd8-60f1-4752-9da0-96240a9da15b",
   "metadata": {},
   "outputs": [
    {
     "data": {
      "text/plain": [
       "2020    484350\n",
       "Name: year, dtype: int64"
      ]
     },
     "execution_count": 16,
     "metadata": {},
     "output_type": "execute_result"
    }
   ],
   "source": [
    "local.year.value_counts()"
   ]
  },
  {
   "cell_type": "code",
   "execution_count": 17,
   "id": "918026a0-02b9-453a-8b8f-5ee98f02cbe6",
   "metadata": {},
   "outputs": [
    {
     "data": {
      "text/plain": [
       "GEN    484350\n",
       "Name: stage, dtype: int64"
      ]
     },
     "execution_count": 17,
     "metadata": {},
     "output_type": "execute_result"
    }
   ],
   "source": [
    "local.stage.value_counts()"
   ]
  },
  {
   "cell_type": "code",
   "execution_count": 18,
   "id": "20f8f5e7-210a-4e51-bb2b-b3f7165438e2",
   "metadata": {},
   "outputs": [
    {
     "data": {
      "text/plain": [
       "False    481764\n",
       "True       2586\n",
       "Name: special, dtype: int64"
      ]
     },
     "execution_count": 18,
     "metadata": {},
     "output_type": "execute_result"
    }
   ],
   "source": [
    "local.special.value_counts(dropna=False)"
   ]
  },
  {
   "cell_type": "code",
   "execution_count": 19,
   "id": "4d8e70da-1f80-46da-b3e7-350d83b39860",
   "metadata": {},
   "outputs": [
    {
     "data": {
      "text/plain": [
       "False    363726\n",
       "True     120624\n",
       "Name: writein, dtype: int64"
      ]
     },
     "execution_count": 19,
     "metadata": {},
     "output_type": "execute_result"
    }
   ],
   "source": [
    "local.writein.value_counts(dropna=False)"
   ]
  },
  {
   "cell_type": "code",
   "execution_count": 20,
   "id": "5f8f501d-444b-4fd4-9cf4-b8b4e7b3e66e",
   "metadata": {},
   "outputs": [
    {
     "data": {
      "text/plain": [
       "2020-11-03    484350\n",
       "Name: date, dtype: int64"
      ]
     },
     "execution_count": 20,
     "metadata": {},
     "output_type": "execute_result"
    }
   ],
   "source": [
    "local.date.value_counts()"
   ]
  },
  {
   "cell_type": "code",
   "execution_count": 21,
   "id": "f68c2bbe-2e04-4a59-a630-1086eadec0fa",
   "metadata": {},
   "outputs": [
    {
     "data": {
      "text/plain": [
       "False    484031\n",
       "True        319\n",
       "Name: readme_check, dtype: int64"
      ]
     },
     "execution_count": 21,
     "metadata": {},
     "output_type": "execute_result"
    }
   ],
   "source": [
    "local.readme_check.value_counts()"
   ]
  },
  {
   "cell_type": "code",
   "execution_count": null,
   "id": "3e451e0d-03c0-489a-8a1b-333308f3b3a2",
   "metadata": {},
   "outputs": [],
   "source": []
  }
 ],
 "metadata": {
  "kernelspec": {
   "display_name": "Python 3 (ipykernel)",
   "language": "python",
   "name": "python3"
  },
  "language_info": {
   "codemirror_mode": {
    "name": "ipython",
    "version": 3
   },
   "file_extension": ".py",
   "mimetype": "text/x-python",
   "name": "python",
   "nbconvert_exporter": "python",
   "pygments_lexer": "ipython3",
   "version": "3.9.7"
  }
 },
 "nbformat": 4,
 "nbformat_minor": 5
}
